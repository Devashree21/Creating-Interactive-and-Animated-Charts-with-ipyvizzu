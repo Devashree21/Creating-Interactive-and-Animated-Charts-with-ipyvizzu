{
 "cells": [
  {
   "cell_type": "code",
   "execution_count": 1,
   "id": "b2d62582",
   "metadata": {},
   "outputs": [],
   "source": [
    "import pandas as pd\n",
    "import numpy as np\n",
    "from ipyvizzu import Chart, Data, Config, Style"
   ]
  },
  {
   "cell_type": "code",
   "execution_count": 2,
   "id": "9acc1f0b",
   "metadata": {},
   "outputs": [
    {
     "name": "stdout",
     "output_type": "stream",
     "text": [
      "  Product    Shop  Color  Price  Quantity  Discount\n",
      "0   Shoes  Shop C   Blue     69         1        32\n",
      "1     Hat  Shop B   Blue     11         8        32\n",
      "2   Shirt  Shop B  Green     10         1        42\n",
      "3   Shoes  Shop B   Blue     57         9        36\n",
      "4   Shoes  Shop B  Green     21         6        11\n"
     ]
    }
   ],
   "source": [
    "np.random.seed(42)\n",
    "\n",
    "# Define product categories and shop names\n",
    "products = ['Shirt', 'Pants', 'Shoes', 'Hat']\n",
    "shops = ['Shop A', 'Shop B', 'Shop C']\n",
    "\n",
    "# Generate random data for the dataset\n",
    "data_frame = pd.DataFrame({\n",
    "    'Product': np.random.choice(products, 100),\n",
    "    'Shop': np.random.choice(shops, 100),\n",
    "    'Color': np.random.choice(['Red', 'Blue', 'Green'], 100),\n",
    "    'Price': np.random.randint(10, 100, 100),\n",
    "    'Quantity': np.random.randint(1, 10, 100),\n",
    "    'Discount': np.random.randint(0, 50, 100)\n",
    "})\n",
    "\n",
    "# Preview the dataset\n",
    "print(data_frame.head())"
   ]
  },
  {
   "cell_type": "code",
   "execution_count": 3,
   "id": "cb35dff9",
   "metadata": {},
   "outputs": [
    {
     "data": {
      "application/javascript": [
       "if (!window.IpyVizzu) {\n",
       "    class IpyVizzu \n",
       "    {\n",
       "        constructor()\n",
       "        {\n",
       "            IpyVizzu.inhibitScroll = false;\n",
       "            IpyVizzu.nbconvert = false;\n",
       "            document.addEventListener('wheel', (evt) => { IpyVizzu.inhibitScroll = true }, true);\n",
       "            document.addEventListener('keydown', (evt) => { IpyVizzu.inhibitScroll = true }, true);\n",
       "            document.addEventListener('touchstart', (evt) => { IpyVizzu.inhibitScroll = true }, true);\n",
       "\n",
       "            this.elements = {};\n",
       "            this.charts = {};\n",
       "            \n",
       "            this.snapshots = {};\n",
       "            this.displays = {};\n",
       "\n",
       "            this.events = {};\n",
       "            this.loaded = {};\n",
       "            this.libs = {};\n",
       "        }\n",
       "\n",
       "        static clearInhibitScroll(element)\n",
       "        {\n",
       "            if (IpyVizzu.nbconvert) IpyVizzu._hide(element);\n",
       "            IpyVizzu.inhibitScroll = false;\n",
       "        }\n",
       "\n",
       "        createChart(element, chartId, vizzulib, divWidth, divHeight) {\n",
       "            this.elements[chartId] = document.createElement(\"div\");\n",
       "            this.elements[chartId].style.cssText = `width: ${divWidth}; height: ${divHeight};`;\n",
       "            this.loaded[chartId] = import(vizzulib);\n",
       "            this.charts[chartId] = this.loaded[chartId].then(Vizzu => {\n",
       "                this.libs[chartId] = Vizzu.default;\n",
       "                return new Vizzu.default(this.elements[chartId]).initializing\n",
       "            });\n",
       "            this._moveHere(chartId, element);\n",
       "        }\n",
       "\n",
       "        animate(element, chartId, displayTarget, scrollEnabled, getChartTarget, chartAnimOpts)\n",
       "        {\n",
       "            if (IpyVizzu.nbconvert) IpyVizzu._hide(element);\n",
       "            if (displayTarget === 'end') this._moveHere(chartId, element);\n",
       "            this.charts[chartId] = this.charts[chartId].then(chart => {\n",
       "                if (displayTarget === 'actual') this._moveHere(chartId, element);\n",
       "                this._scroll(chartId, scrollEnabled);\n",
       "                let chartTarget = getChartTarget(this.libs[chartId]);\n",
       "                if (typeof chartTarget === 'string') chartTarget = this.snapshots[chartTarget];\n",
       "                return chart.animate(chartTarget, chartAnimOpts);\n",
       "            });\n",
       "        }\n",
       "\n",
       "        store(element, chartId, id)\n",
       "        {\n",
       "            if (IpyVizzu.nbconvert) IpyVizzu._hide(element);\n",
       "            this.charts[chartId] = this.charts[chartId].then(chart => {\n",
       "                this.snapshots[id] = chart.store();\n",
       "                return chart;\n",
       "            });\n",
       "        }\n",
       "\n",
       "        feature(element, chartId, name, enabled)\n",
       "        {\n",
       "            if (IpyVizzu.nbconvert) IpyVizzu._hide(element);\n",
       "            this.charts[chartId] = this.charts[chartId].then(chart => {\n",
       "                chart.feature(name, enabled);\n",
       "                return chart;\n",
       "            });\n",
       "        }\n",
       "\n",
       "        setEvent(element, chartId, id, event, handler)\n",
       "        {\n",
       "            if (IpyVizzu.nbconvert) IpyVizzu._hide(element);\n",
       "            this.charts[chartId] = this.charts[chartId].then(chart => {\n",
       "                this.events[id] = handler;\n",
       "                chart.on(event, this.events[id]);\n",
       "                return chart;\n",
       "            });\n",
       "        }\n",
       "\n",
       "        clearEvent(element, chartId, id, event)\n",
       "        {\n",
       "            if (IpyVizzu.nbconvert) IpyVizzu._hide(element);\n",
       "            this.charts[chartId] = this.charts[chartId].then(chart => {\n",
       "                chart.off(event, this.events[id]);\n",
       "                return chart;\n",
       "            });\n",
       "        }\n",
       "\n",
       "        log(element, chartId, chartProperty)\n",
       "        {\n",
       "            if (IpyVizzu.nbconvert) IpyVizzu._hide(element);\n",
       "            this.charts[chartId] = this.charts[chartId].then(chart => {\n",
       "                console.log(chart[chartProperty])\n",
       "                return chart;\n",
       "            });\n",
       "        }\n",
       "\n",
       "        _moveHere(chartId, element)\n",
       "        {\n",
       "            if (IpyVizzu.nbconvert) IpyVizzu._display(this.elements[chartId], element);\n",
       "            element.append(this.elements[chartId]);\n",
       "        }\n",
       "\n",
       "        _scroll(chartId, enabled)\n",
       "        {\n",
       "            if (!IpyVizzu.inhibitScroll && enabled) {\n",
       "                this.elements[chartId].scrollIntoView({ behavior: \"auto\", block: \"center\" });\n",
       "            }\n",
       "        }\n",
       "\n",
       "        static _hide(element) {\n",
       "            document.getElementById(element.selector.substring(1)).parentNode.style.display = 'none';\n",
       "        }\n",
       "\n",
       "        static _display(prevElement, element) {\n",
       "            if (prevElement.parentNode) {\n",
       "                prevElement.parentNode.style.display = \"none\";\n",
       "            }\n",
       "            document.getElementById(element.selector.substring(1)).parentNode.style.display = 'flex';\n",
       "            document.getElementById(element.selector.substring(1)).parentNode.style.margin = 'auto';\n",
       "        }\n",
       "    }\n",
       "\n",
       "    window.IpyVizzu = IpyVizzu;\n",
       "    window.ipyvizzu = new window.IpyVizzu();\n",
       "}"
      ]
     },
     "metadata": {},
     "output_type": "display_data"
    },
    {
     "data": {
      "application/javascript": [
       "window.ipyvizzu.createChart(element, 'aff074d', 'https://cdn.jsdelivr.net/npm/vizzu@~0.6.0/dist/vizzu.min.js', '800px', '480px');"
      ]
     },
     "metadata": {},
     "output_type": "display_data"
    },
    {
     "data": {
      "application/javascript": [
       "window.ipyvizzu.animate(element, 'aff074d', 'actual', false, lib => { return {\"data\": {\"series\": [{\"name\": \"Product\", \"type\": \"dimension\", \"values\": [\"Shoes\", \"Hat\", \"Shirt\", \"Shoes\", \"Shoes\", \"Hat\", \"Shirt\", \"Shirt\", \"Shoes\", \"Pants\", \"Shoes\", \"Shoes\", \"Shoes\", \"Shoes\", \"Hat\", \"Shirt\", \"Hat\", \"Hat\", \"Hat\", \"Shoes\", \"Pants\", \"Shirt\", \"Pants\", \"Hat\", \"Hat\", \"Pants\", \"Pants\", \"Pants\", \"Hat\", \"Hat\", \"Shirt\", \"Shirt\", \"Hat\", \"Pants\", \"Pants\", \"Shirt\", \"Hat\", \"Shirt\", \"Shirt\", \"Shoes\", \"Shoes\", \"Shoes\", \"Pants\", \"Hat\", \"Hat\", \"Hat\", \"Hat\", \"Shoes\", \"Pants\", \"Pants\", \"Shoes\", \"Pants\", \"Shoes\", \"Hat\", \"Shoes\", \"Hat\", \"Hat\", \"Shirt\", \"Shoes\", \"Shirt\", \"Shoes\", \"Shoes\", \"Shirt\", \"Shirt\", \"Shoes\", \"Pants\", \"Hat\", \"Shirt\", \"Hat\", \"Pants\", \"Pants\", \"Pants\", \"Shirt\", \"Pants\", \"Shirt\", \"Pants\", \"Hat\", \"Hat\", \"Shoes\", \"Hat\", \"Shoes\", \"Hat\", \"Shirt\", \"Hat\", \"Shoes\", \"Shoes\", \"Pants\", \"Shirt\", \"Hat\", \"Pants\", \"Hat\", \"Hat\", \"Pants\", \"Pants\", \"Pants\", \"Pants\", \"Pants\", \"Hat\", \"Pants\", \"Shirt\"]}, {\"name\": \"Shop\", \"type\": \"dimension\", \"values\": [\"Shop C\", \"Shop B\", \"Shop B\", \"Shop B\", \"Shop B\", \"Shop B\", \"Shop B\", \"Shop C\", \"Shop C\", \"Shop B\", \"Shop C\", \"Shop A\", \"Shop B\", \"Shop A\", \"Shop A\", \"Shop B\", \"Shop C\", \"Shop A\", \"Shop B\", \"Shop A\", \"Shop A\", \"Shop A\", \"Shop A\", \"Shop C\", \"Shop A\", \"Shop A\", \"Shop A\", \"Shop C\", \"Shop A\", \"Shop A\", \"Shop C\", \"Shop C\", \"Shop C\", \"Shop A\", \"Shop C\", \"Shop C\", \"Shop A\", \"Shop C\", \"Shop A\", \"Shop B\", \"Shop C\", \"Shop B\", \"Shop A\", \"Shop C\", \"Shop A\", \"Shop B\", \"Shop A\", \"Shop C\", \"Shop C\", \"Shop B\", \"Shop A\", \"Shop C\", \"Shop B\", \"Shop C\", \"Shop C\", \"Shop A\", \"Shop C\", \"Shop A\", \"Shop C\", \"Shop B\", \"Shop C\", \"Shop A\", \"Shop A\", \"Shop B\", \"Shop C\", \"Shop C\", \"Shop B\", \"Shop C\", \"Shop C\", \"Shop A\", \"Shop C\", \"Shop C\", \"Shop B\", \"Shop B\", \"Shop A\", \"Shop C\", \"Shop C\", \"Shop C\", \"Shop A\", \"Shop A\", \"Shop B\", \"Shop A\", \"Shop C\", \"Shop C\", \"Shop A\", \"Shop C\", \"Shop C\", \"Shop A\", \"Shop A\", \"Shop C\", \"Shop C\", \"Shop C\", \"Shop B\", \"Shop B\", \"Shop B\", \"Shop A\", \"Shop B\", \"Shop A\", \"Shop A\", \"Shop B\"]}, {\"name\": \"Color\", \"type\": \"dimension\", \"values\": [\"Blue\", \"Blue\", \"Green\", \"Blue\", \"Green\", \"Red\", \"Green\", \"Blue\", \"Red\", \"Red\", \"Red\", \"Green\", \"Blue\", \"Red\", \"Red\", \"Red\", \"Green\", \"Green\", \"Blue\", \"Green\", \"Red\", \"Blue\", \"Red\", \"Red\", \"Green\", \"Blue\", \"Green\", \"Green\", \"Blue\", \"Red\", \"Red\", \"Blue\", \"Red\", \"Blue\", \"Blue\", \"Green\", \"Blue\", \"Green\", \"Red\", \"Red\", \"Red\", \"Red\", \"Green\", \"Red\", \"Blue\", \"Blue\", \"Blue\", \"Green\", \"Red\", \"Red\", \"Red\", \"Green\", \"Blue\", \"Blue\", \"Red\", \"Blue\", \"Blue\", \"Green\", \"Green\", \"Green\", \"Green\", \"Red\", \"Green\", \"Blue\", \"Red\", \"Blue\", \"Blue\", \"Blue\", \"Green\", \"Green\", \"Red\", \"Red\", \"Green\", \"Blue\", \"Red\", \"Green\", \"Green\", \"Green\", \"Blue\", \"Green\", \"Green\", \"Green\", \"Green\", \"Red\", \"Red\", \"Green\", \"Blue\", \"Red\", \"Green\", \"Red\", \"Red\", \"Blue\", \"Green\", \"Green\", \"Blue\", \"Blue\", \"Green\", \"Green\", \"Blue\", \"Red\"]}, {\"name\": \"Price\", \"type\": \"measure\", \"values\": [69.0, 11.0, 10.0, 57.0, 21.0, 78.0, 46.0, 41.0, 18.0, 28.0, 57.0, 89.0, 12.0, 29.0, 33.0, 63.0, 42.0, 33.0, 84.0, 81.0, 45.0, 47.0, 93.0, 98.0, 34.0, 27.0, 91.0, 75.0, 63.0, 44.0, 89.0, 70.0, 50.0, 42.0, 77.0, 42.0, 23.0, 30.0, 57.0, 29.0, 17.0, 16.0, 76.0, 26.0, 42.0, 57.0, 85.0, 68.0, 95.0, 31.0, 39.0, 47.0, 60.0, 63.0, 17.0, 36.0, 36.0, 30.0, 39.0, 37.0, 73.0, 78.0, 70.0, 57.0, 28.0, 13.0, 44.0, 73.0, 58.0, 26.0, 53.0, 39.0, 55.0, 15.0, 46.0, 33.0, 55.0, 62.0, 69.0, 72.0, 94.0, 41.0, 96.0, 42.0, 76.0, 27.0, 34.0, 63.0, 67.0, 76.0, 55.0, 33.0, 41.0, 56.0, 95.0, 32.0, 75.0, 36.0, 11.0, 99.0]}, {\"name\": \"Quantity\", \"type\": \"measure\", \"values\": [1.0, 8.0, 1.0, 9.0, 6.0, 7.0, 7.0, 3.0, 2.0, 9.0, 8.0, 7.0, 9.0, 4.0, 4.0, 1.0, 8.0, 3.0, 7.0, 2.0, 2.0, 7.0, 6.0, 3.0, 9.0, 6.0, 6.0, 1.0, 4.0, 6.0, 6.0, 5.0, 1.0, 8.0, 5.0, 5.0, 7.0, 4.0, 6.0, 4.0, 3.0, 7.0, 8.0, 4.0, 2.0, 3.0, 1.0, 8.0, 3.0, 7.0, 5.0, 5.0, 7.0, 9.0, 5.0, 1.0, 1.0, 2.0, 6.0, 9.0, 8.0, 5.0, 1.0, 7.0, 5.0, 6.0, 7.0, 3.0, 3.0, 5.0, 6.0, 9.0, 5.0, 1.0, 4.0, 5.0, 5.0, 7.0, 4.0, 1.0, 5.0, 7.0, 6.0, 5.0, 4.0, 2.0, 4.0, 3.0, 1.0, 8.0, 5.0, 4.0, 8.0, 7.0, 2.0, 1.0, 4.0, 8.0, 2.0, 3.0]}, {\"name\": \"Discount\", \"type\": \"measure\", \"values\": [32.0, 32.0, 42.0, 36.0, 11.0, 2.0, 0.0, 32.0, 39.0, 9.0, 42.0, 43.0, 28.0, 12.0, 11.0, 30.0, 45.0, 1.0, 49.0, 34.0, 22.0, 16.0, 25.0, 7.0, 28.0, 25.0, 9.0, 25.0, 33.0, 40.0, 6.0, 3.0, 49.0, 44.0, 10.0, 28.0, 35.0, 24.0, 20.0, 35.0, 9.0, 36.0, 8.0, 23.0, 34.0, 48.0, 34.0, 47.0, 35.0, 17.0, 48.0, 38.0, 31.0, 23.0, 22.0, 31.0, 36.0, 11.0, 48.0, 12.0, 22.0, 24.0, 34.0, 40.0, 29.0, 16.0, 48.0, 19.0, 47.0, 24.0, 21.0, 12.0, 18.0, 48.0, 35.0, 11.0, 40.0, 18.0, 11.0, 8.0, 6.0, 27.0, 13.0, 30.0, 18.0, 46.0, 15.0, 4.0, 34.0, 11.0, 24.0, 20.0, 35.0, 22.0, 15.0, 38.0, 44.0, 41.0, 38.0, 13.0]}]}} }, undefined);"
      ]
     },
     "metadata": {},
     "output_type": "display_data"
    }
   ],
   "source": [
    "data = Data()\n",
    "data.add_data_frame(data_frame)\n",
    "\n",
    "chart = Chart()\n",
    "chart.animate(data)"
   ]
  },
  {
   "cell_type": "code",
   "execution_count": 4,
   "id": "b1303c46",
   "metadata": {},
   "outputs": [
    {
     "data": {
      "application/javascript": [
       "if (window.IpyVizzu) { window.IpyVizzu.clearInhibitScroll(element); }"
      ]
     },
     "metadata": {},
     "output_type": "display_data"
    },
    {
     "data": {
      "application/javascript": [
       "window.ipyvizzu.animate(element, 'aff074d', 'actual', false, lib => { return {\"config\": lib.presets.bar({'x': 'Quantity', 'y': 'Product', 'title': 'Bar Chart'})} }, undefined);"
      ]
     },
     "metadata": {},
     "output_type": "display_data"
    }
   ],
   "source": [
    "chart.animate(\n",
    "    Config.bar(\n",
    "        {\"x\": \"Quantity\",\n",
    "         \"y\": \"Product\", \"title\": \"Bar Chart\"}\n",
    "    )\n",
    ")"
   ]
  },
  {
   "cell_type": "code",
   "execution_count": 5,
   "id": "e4dfb2eb",
   "metadata": {},
   "outputs": [
    {
     "data": {
      "application/javascript": [
       "if (window.IpyVizzu) { window.IpyVizzu.clearInhibitScroll(element); }"
      ]
     },
     "metadata": {},
     "output_type": "display_data"
    },
    {
     "data": {
      "application/javascript": [
       "window.ipyvizzu.animate(element, 'aff074d', 'actual', false, lib => { return {\"config\": lib.presets.groupedBar({'x': 'Quantity', 'y': 'Color', 'groupedBy': 'Shop', 'title': 'Grouped Bar Chart'})} }, undefined);"
      ]
     },
     "metadata": {},
     "output_type": "display_data"
    }
   ],
   "source": [
    "chart.animate(\n",
    "    Config.groupedBar(\n",
    "        {\n",
    "            \"x\": \"Quantity\",\n",
    "            \"y\": \"Color\",\n",
    "            \"groupedBy\": \"Shop\",\n",
    "            \"title\": \"Grouped Bar Chart\",\n",
    "        }\n",
    "    )\n",
    ")"
   ]
  },
  {
   "cell_type": "code",
   "execution_count": 6,
   "id": "d7511419",
   "metadata": {},
   "outputs": [
    {
     "data": {
      "application/javascript": [
       "if (window.IpyVizzu) { window.IpyVizzu.clearInhibitScroll(element); }"
      ]
     },
     "metadata": {},
     "output_type": "display_data"
    },
    {
     "data": {
      "application/javascript": [
       "window.ipyvizzu.animate(element, 'aff074d', 'actual', false, lib => { return {\"config\": lib.presets.pie({'angle': 'Quantity', 'by': 'Product', 'title': 'Pie Chart'})} }, undefined);"
      ]
     },
     "metadata": {},
     "output_type": "display_data"
    }
   ],
   "source": [
    "chart.animate(\n",
    "    Config.pie(\n",
    "        {\n",
    "            \"angle\": \"Quantity\",\n",
    "            \"by\": \"Product\",\n",
    "            \"title\": \"Pie Chart\",\n",
    "        }\n",
    "    )\n",
    ")"
   ]
  },
  {
   "cell_type": "code",
   "execution_count": 7,
   "id": "d06063fe",
   "metadata": {},
   "outputs": [
    {
     "data": {
      "application/javascript": [
       "if (window.IpyVizzu) { window.IpyVizzu.clearInhibitScroll(element); }"
      ]
     },
     "metadata": {},
     "output_type": "display_data"
    },
    {
     "data": {
      "application/javascript": [
       "window.ipyvizzu.animate(element, 'aff074d', 'actual', false, lib => { return {\"config\": lib.presets.stackedArea({'x': 'Product', 'y': 'Price', 'stackedBy': 'Shop', 'title': 'Stacked Area Chart'})} }, undefined);"
      ]
     },
     "metadata": {},
     "output_type": "display_data"
    }
   ],
   "source": [
    "chart.animate(\n",
    "    Config.stackedArea(\n",
    "        {\n",
    "            \"x\": \"Product\",\n",
    "            \"y\": \"Price\",\n",
    "            \"stackedBy\": \"Shop\",\n",
    "            \"title\": \"Stacked Area Chart\",\n",
    "        }\n",
    "    )\n",
    ")"
   ]
  },
  {
   "cell_type": "code",
   "execution_count": 8,
   "id": "d7f2f077",
   "metadata": {},
   "outputs": [
    {
     "data": {
      "application/javascript": [
       "if (window.IpyVizzu) { window.IpyVizzu.clearInhibitScroll(element); }"
      ]
     },
     "metadata": {},
     "output_type": "display_data"
    },
    {
     "data": {
      "application/javascript": [
       "window.ipyvizzu.animate(element, 'aff074d', 'actual', false, lib => { return {\"style\": {\"plot\": {\"marker\": {\"colorPalette\": \"#0e0e52 #05668d #33A7FF #3386FF\"}}}} }, undefined);"
      ]
     },
     "metadata": {},
     "output_type": "display_data"
    }
   ],
   "source": [
    "chart.animate(\n",
    "    Style(\n",
    "        {\n",
    "            \"plot\": {\n",
    "                \"marker\": {\n",
    "                    \"colorPalette\": \"#0e0e52 #05668d #33A7FF #3386FF\"\n",
    "                }\n",
    "            }\n",
    "        }\n",
    "    )\n",
    ")"
   ]
  },
  {
   "cell_type": "code",
   "execution_count": 9,
   "id": "e63d13da",
   "metadata": {},
   "outputs": [
    {
     "data": {
      "application/javascript": [
       "if (window.IpyVizzu) { window.IpyVizzu.clearInhibitScroll(element); }"
      ]
     },
     "metadata": {},
     "output_type": "display_data"
    },
    {
     "data": {
      "application/javascript": [
       "window.ipyvizzu.animate(element, 'aff074d', 'actual', false, lib => { return {\"config\": lib.presets.bar({'x': 'Quantity', 'y': 'Product', 'title': 'Bar Chart'})} }, {\"duration\": 1, \"easing\": \"linear\"});"
      ]
     },
     "metadata": {},
     "output_type": "display_data"
    },
    {
     "data": {
      "application/javascript": [
       "window.ipyvizzu.animate(element, 'aff074d', 'actual', false, lib => { return {\"config\": lib.presets.groupedBar({'x': 'Quantity', 'y': 'Color', 'groupedBy': 'Shop', 'title': 'Grouped Bar Chart'})} }, {\"duration\": 6, \"easing\": \"linear\"});"
      ]
     },
     "metadata": {},
     "output_type": "display_data"
    },
    {
     "data": {
      "application/javascript": [
       "window.ipyvizzu.animate(element, 'aff074d', 'actual', false, lib => { return {\"config\": lib.presets.pie({'angle': 'Quantity', 'by': 'Product', 'title': 'Pie Chart'})} }, {\"duration\": 4, \"easing\": \"linear\"});"
      ]
     },
     "metadata": {},
     "output_type": "display_data"
    },
    {
     "data": {
      "application/javascript": [
       "window.ipyvizzu.animate(element, 'aff074d', 'actual', false, lib => { return {\"config\": lib.presets.stackedArea({'x': 'Product', 'y': 'Price', 'stackedBy': 'Shop', 'title': 'Stacked Area Chart'})} }, {\"duration\": 4, \"easing\": \"linear\"});"
      ]
     },
     "metadata": {},
     "output_type": "display_data"
    }
   ],
   "source": [
    "chart.animate(\n",
    "    Config.bar(\n",
    "        {\"x\": \"Quantity\",\n",
    "         \"y\": \"Product\", \"title\": \"Bar Chart\"}\n",
    "    ),\n",
    "    duration=1,\n",
    "    easing=\"linear\"\n",
    ")\n",
    "chart.animate(\n",
    "    Config.groupedBar(\n",
    "        {\n",
    "            \"x\": \"Quantity\",\n",
    "            \"y\": \"Color\",\n",
    "            \"groupedBy\": \"Shop\",\n",
    "            \"title\": \"Grouped Bar Chart\",\n",
    "        }\n",
    "    ),\n",
    "    duration=6,\n",
    "    easing=\"linear\"\n",
    ")\n",
    "chart.animate(\n",
    "    Config.pie(\n",
    "        {\n",
    "            \"angle\": \"Quantity\",\n",
    "            \"by\": \"Product\",\n",
    "            \"title\": \"Pie Chart\",\n",
    "        }\n",
    "    ),\n",
    "    duration=4,\n",
    "    easing=\"linear\"\n",
    ")\n",
    "chart.animate(\n",
    "    Config.stackedArea(\n",
    "        {\n",
    "            \"x\": \"Product\",\n",
    "            \"y\": \"Price\",\n",
    "            \"stackedBy\": \"Shop\",\n",
    "            \"title\": \"Stacked Area Chart\",\n",
    "        }\n",
    "    ),\n",
    "    duration=4,\n",
    "    easing=\"linear\"\n",
    ")"
   ]
  },
  {
   "cell_type": "code",
   "execution_count": null,
   "id": "b007b3b4",
   "metadata": {},
   "outputs": [],
   "source": []
  }
 ],
 "metadata": {
  "hide_input": false,
  "kernelspec": {
   "display_name": "Python 3 (ipykernel)",
   "language": "python",
   "name": "python3"
  },
  "language_info": {
   "codemirror_mode": {
    "name": "ipython",
    "version": 3
   },
   "file_extension": ".py",
   "mimetype": "text/x-python",
   "name": "python",
   "nbconvert_exporter": "python",
   "pygments_lexer": "ipython3",
   "version": "3.9.7"
  },
  "nbTranslate": {
   "displayLangs": [
    "*"
   ],
   "hotkey": "alt-t",
   "langInMainMenu": true,
   "sourceLang": "en",
   "targetLang": "fr",
   "useGoogleTranslate": true
  },
  "toc": {
   "base_numbering": 1,
   "nav_menu": {},
   "number_sections": true,
   "sideBar": true,
   "skip_h1_title": false,
   "title_cell": "Table of Contents",
   "title_sidebar": "Contents",
   "toc_cell": false,
   "toc_position": {},
   "toc_section_display": true,
   "toc_window_display": false
  }
 },
 "nbformat": 4,
 "nbformat_minor": 5
}
